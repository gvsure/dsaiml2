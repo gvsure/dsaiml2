{
 "cells": [
  {
   "cell_type": "markdown",
   "metadata": {},
   "source": [
    "<img src=\"http://cfs22.simplicdn.net/ice9/new_logo.svgz \"/>\n",
    "\n",
    "# Assignment 02: Evaluate the Summer Olympics, London 2012 dataset\n",
    "\n",
    "*The comments/sections provided are your cues to perform the assignment. You don't need to limit yourself to the number of rows/cells provided. You can add additional rows in each section to add more lines of code.*\n",
    "\n",
    "*If at any point in time you need help on solving this assignment, view our demo video to understand the different steps of the code.*\n",
    "\n",
    "**Happy coding!**\n",
    "\n",
    "* * *"
   ]
  },
  {
   "cell_type": "markdown",
   "metadata": {},
   "source": [
    "#### 1: View and add the dataset"
   ]
  },
  {
   "cell_type": "code",
   "execution_count": 2,
   "metadata": {},
   "outputs": [],
   "source": [
    "#Import the necessary library\n",
    "import numpy as np"
   ]
  },
  {
   "cell_type": "code",
   "execution_count": 4,
   "metadata": {},
   "outputs": [],
   "source": [
    "#Manually add the Summer Olympics, London 2012 dataset as arrays\n",
    "datafile = open(\"olympic_data.csv\")\n",
    "countries = []\n",
    "country_codes = []\n",
    "years = []\n",
    "gold_medals = []\n",
    "silver_medals = []\n",
    "bronze_medals = []\n",
    "for line in datafile.readlines():\n",
    "    data = line.strip().split(\",\")\n",
    "    countries.append(data[0])\n",
    "    country_codes.append(data[1])\n",
    "    years.append(int(data[2]))\n",
    "    gold_medals.append(int(data[3]))\n",
    "    silver_medals.append(int(data[4]))\n",
    "    bronze_medals.append(int(data[5]))\n",
    "datafile.close()"
   ]
  },
  {
   "cell_type": "markdown",
   "metadata": {},
   "source": [
    "#### Find the country with maximum gold medals"
   ]
  },
  {
   "cell_type": "code",
   "execution_count": 5,
   "metadata": {},
   "outputs": [
    {
     "name": "stdout",
     "output_type": "stream",
     "text": [
      "Highest number of gold medals = 46\n"
     ]
    }
   ],
   "source": [
    "#Use the argmax() method to find the highest number of gold medals\n",
    "\n",
    "countries = np.array(countries)\n",
    "country_codes = np.array(country_codes)\n",
    "years = np.array(years)\n",
    "gold_medals = np.array(gold_medals)\n",
    "silver_medals = np.array(silver_medals)\n",
    "bronze_medals = np.array(bronze_medals)\n",
    "\n",
    "highest_gold_medals_index = np.argmax(gold_medals)\n",
    "print(\"Highest number of gold medals = {}\".format(gold_medals[highest_gold_medals_index]))"
   ]
  },
  {
   "cell_type": "code",
   "execution_count": 6,
   "metadata": {},
   "outputs": [
    {
     "name": "stdout",
     "output_type": "stream",
     "text": [
      "Country with the highest number of gold medals = United States\n"
     ]
    }
   ],
   "source": [
    "#Print the name of the country\n",
    "print(\"Country with the highest number of gold medals = {}\".format(countries[highest_gold_medals_index]))"
   ]
  },
  {
   "cell_type": "markdown",
   "metadata": {},
   "source": [
    "#### Find the countries with more than 20 gold medals"
   ]
  },
  {
   "cell_type": "code",
   "execution_count": 7,
   "metadata": {},
   "outputs": [
    {
     "name": "stdout",
     "output_type": "stream",
     "text": [
      "Countries with more than 20 gold medals = Great Britain,China ,Russia,United States\n"
     ]
    }
   ],
   "source": [
    "#Use Boolean indexing technique to find the required output\n",
    "print(\"Countries with more than 20 gold medals = {}\".format(\",\".join(list(countries[gold_medals>20]))))"
   ]
  },
  {
   "cell_type": "markdown",
   "metadata": {},
   "source": [
    "#### Evaluate the dataset and print the name of each country with its gold medals and total number of medals"
   ]
  },
  {
   "cell_type": "code",
   "execution_count": 8,
   "metadata": {},
   "outputs": [
    {
     "name": "stdout",
     "output_type": "stream",
     "text": [
      "Country: Great Britain; Gold medals: 29; Total number of medals: 65\n",
      "Country: China ; Gold medals: 38; Total number of medals: 88\n",
      "Country: Russia; Gold medals: 24; Total number of medals: 81\n",
      "Country: United States; Gold medals: 46; Total number of medals: 103\n",
      "Country: Korea; Gold medals: 13; Total number of medals: 28\n",
      "Country: Japan; Gold medals: 7; Total number of medals: 38\n",
      "Country: Germany; Gold medals: 11; Total number of medals: 36\n"
     ]
    }
   ],
   "source": [
    "#Use a for loop to create the required output\n",
    "total_medals = gold_medals+silver_medals+bronze_medals\n",
    "for country, gold_medals_count, total_medals_count in zip(countries, gold_medals, total_medals):\n",
    "    print(\"Country: {}; Gold medals: {}; Total number of medals: {}\".format(country,gold_medals_count, total_medals_count))"
   ]
  },
  {
   "cell_type": "code",
   "execution_count": null,
   "metadata": {},
   "outputs": [],
   "source": []
  }
 ],
 "metadata": {
  "kernelspec": {
   "display_name": "Python 3",
   "language": "python",
   "name": "python3"
  },
  "language_info": {
   "codemirror_mode": {
    "name": "ipython",
    "version": 3
   },
   "file_extension": ".py",
   "mimetype": "text/x-python",
   "name": "python",
   "nbconvert_exporter": "python",
   "pygments_lexer": "ipython3",
   "version": "3.6.4"
  }
 },
 "nbformat": 4,
 "nbformat_minor": 1
}
